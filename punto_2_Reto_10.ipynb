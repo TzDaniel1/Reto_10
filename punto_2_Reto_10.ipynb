x = []
y = []

z = int(input("ingrese la canridad de numeros enteros de los arreglos " ))

for i in range(z):
    w = int(input(f"ingrese numero entero {i+1} del primer arreglo: "))
    x.append(w)

for i in range(z):
    v = int(input(f"ingrese numero entero {i+1} del segundo arreglo: "))
    y.append(v)

print("primer arreglo: ", x)
print("segundo arreglo: ", y)

ProductoPunto = sum(x[i] * y[i] for i in range(z))
print(f"el producto punto de los erreglos es: {ProductoPunto} ")